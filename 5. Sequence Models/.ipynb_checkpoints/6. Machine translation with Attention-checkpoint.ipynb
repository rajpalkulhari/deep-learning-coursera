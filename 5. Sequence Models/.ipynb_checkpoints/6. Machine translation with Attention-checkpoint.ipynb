{
 "cells": [
  {
   "cell_type": "markdown",
   "metadata": {},
   "source": [
    "# Neural Machine Translation with Attention"
   ]
  },
  {
   "cell_type": "code",
   "execution_count": 12,
   "metadata": {},
   "outputs": [],
   "source": [
    "from keras.layers import Bidirectional, LSTM, Dense, Activation\n",
    "from keras.layers import Concatenate, Permute, Dot, Input, RepeatVector, Lambda,Multiply\n",
    "from keras.optimizers import Adam\n",
    "from keras.utils import to_categorical\n",
    "from keras.models import load_model,Model\n",
    "import keras.backend as K\n",
    "import numpy as np\n",
    "from faker import Faker\n",
    "import random\n",
    "from tqdm import tqdm\n",
    "from babel.dates import format_date\n",
    "from nmt_utils import *\n",
    "import matplotlib.pyplot as plt\n",
    "\n",
    "%matplotlib inline "
   ]
  },
  {
   "cell_type": "markdown",
   "metadata": {},
   "source": [
    "## 1. Dataset"
   ]
  },
  {
   "cell_type": "code",
   "execution_count": 13,
   "metadata": {},
   "outputs": [
    {
     "name": "stderr",
     "output_type": "stream",
     "text": [
      "100%|█████████████████████████████████████████████████████████████████████████████████████████████████████████████████████████| 10000/10000 [00:00<00:00, 22124.09it/s]\n"
     ]
    }
   ],
   "source": [
    "m = 10000\n",
    "dataset, human_vocab, machine_vocab, inv_machine_vocab = load_dataset(m)"
   ]
  },
  {
   "cell_type": "code",
   "execution_count": 17,
   "metadata": {},
   "outputs": [
    {
     "data": {
      "text/plain": [
       "[('9 may 1998', '1998-05-09'),\n",
       " ('10.09.70', '1970-09-10'),\n",
       " ('4/28/90', '1990-04-28'),\n",
       " ('thursday january 26 1995', '1995-01-26'),\n",
       " ('monday march 7 1983', '1983-03-07'),\n",
       " ('sunday may 22 1988', '1988-05-22'),\n",
       " ('tuesday july 8 2008', '2008-07-08'),\n",
       " ('08 sep 1999', '1999-09-08'),\n",
       " ('1 jan 1981', '1981-01-01'),\n",
       " ('monday may 22 1995', '1995-05-22')]"
      ]
     },
     "execution_count": 17,
     "metadata": {},
     "output_type": "execute_result"
    }
   ],
   "source": [
    "dataset[0:10]"
   ]
  },
  {
   "cell_type": "code",
   "execution_count": 27,
   "metadata": {},
   "outputs": [
    {
     "name": "stdout",
     "output_type": "stream",
     "text": [
      "X.shape =  (10000, 30)\n",
      "Y.shape =  (10000, 10)\n",
      "Xoh.shape =  (10000, 30, 37)\n",
      "Yoh.shape =  (10000, 10, 11)\n"
     ]
    }
   ],
   "source": [
    "Tx = 30\n",
    "Ty = 10\n",
    "\n",
    "X, Y, Xoh, Yoh = preprocess_data(dataset,human_vocab,machine_vocab,Tx, Ty)\n",
    "\n",
    "print(\"X.shape = \", X.shape)\n",
    "print(\"Y.shape = \", Y.shape)\n",
    "print(\"Xoh.shape = \", Xoh.shape)\n",
    "print(\"Yoh.shape = \", Yoh.shape)"
   ]
  },
  {
   "cell_type": "code",
   "execution_count": 39,
   "metadata": {},
   "outputs": [
    {
     "name": "stdout",
     "output_type": "stream",
     "text": [
      "Source date: 9 may 1998\n",
      "Target date: 1998-05-09\n",
      "\n",
      "Source after preprocessing (indices): [12  0 24 13 34  0  4 12 12 11 36 36 36 36 36 36 36 36 36 36 36 36 36 36\n",
      " 36 36 36 36 36 36]\n",
      "Target after preprocessing (indices): [ 2 10 10  9  0  1  6  0  1 10]\n",
      "\n",
      "Source after preprocessing (one-hot): [[0. 0. 0. ... 0. 0. 0.]\n",
      " [1. 0. 0. ... 0. 0. 0.]\n",
      " [0. 0. 0. ... 0. 0. 0.]\n",
      " ...\n",
      " [0. 0. 0. ... 0. 0. 1.]\n",
      " [0. 0. 0. ... 0. 0. 1.]\n",
      " [0. 0. 0. ... 0. 0. 1.]]\n",
      "Target after preprocessing (one-hot): [[0. 0. 1. 0. 0. 0. 0. 0. 0. 0. 0.]\n",
      " [0. 0. 0. 0. 0. 0. 0. 0. 0. 0. 1.]\n",
      " [0. 0. 0. 0. 0. 0. 0. 0. 0. 0. 1.]\n",
      " [0. 0. 0. 0. 0. 0. 0. 0. 0. 1. 0.]\n",
      " [1. 0. 0. 0. 0. 0. 0. 0. 0. 0. 0.]\n",
      " [0. 1. 0. 0. 0. 0. 0. 0. 0. 0. 0.]\n",
      " [0. 0. 0. 0. 0. 0. 1. 0. 0. 0. 0.]\n",
      " [1. 0. 0. 0. 0. 0. 0. 0. 0. 0. 0.]\n",
      " [0. 1. 0. 0. 0. 0. 0. 0. 0. 0. 0.]\n",
      " [0. 0. 0. 0. 0. 0. 0. 0. 0. 0. 1.]]\n"
     ]
    }
   ],
   "source": [
    "index = 0\n",
    "print(\"Source date:\", dataset[index][0])\n",
    "print(\"Target date:\", dataset[index][1])\n",
    "print()\n",
    "print(\"Source after preprocessing (indices):\", X[index])\n",
    "print(\"Target after preprocessing (indices):\", Y[index])\n",
    "print()\n",
    "print(\"Source after preprocessing (one-hot):\", Xoh[index])\n",
    "print(\"Target after preprocessing (one-hot):\", Yoh[index])"
   ]
  },
  {
   "cell_type": "markdown",
   "metadata": {},
   "source": [
    "## 2. Neural machine tranlation with attention"
   ]
  },
  {
   "cell_type": "code",
   "execution_count": 42,
   "metadata": {},
   "outputs": [],
   "source": [
    "repeator = RepeatVector(Tx)\n",
    "concatenate = Concatenate(axis=-1)\n",
    "densor = Dense(1,activation=\"relu\")\n",
    "activator = Activation(softmax, name = \"attention_weights\")\n",
    "dotor = Dot(axes = 1)"
   ]
  },
  {
   "cell_type": "code",
   "execution_count": 43,
   "metadata": {},
   "outputs": [],
   "source": [
    "def one_step_attention(a, s_prev):\n",
    "    s_prev = repeator(s_prev)\n",
    "    concat = concatenate([a, s_prev])\n",
    "    e = densor(concat)\n",
    "    alphas = activator(e)\n",
    "    \n",
    "    context = dotor([alphas, a])\n",
    "    \n",
    "    return context"
   ]
  },
  {
   "cell_type": "code",
   "execution_count": 44,
   "metadata": {},
   "outputs": [],
   "source": [
    "n_a = 64\n",
    "n_s = 128\n",
    "post_activation_LSTM_cell = LSTM(n_s, return_state=True)\n",
    "output_layer = Dense(len(machine_vocab),activation=softmax)"
   ]
  },
  {
   "cell_type": "code",
   "execution_count": 51,
   "metadata": {},
   "outputs": [],
   "source": [
    "def model(Tx, Ty, n_a, n_s, human_vocab_size, machine_vocab_size):\n",
    "    X = Input(shape=(Tx, human_vocab_size))\n",
    "    s0 = Input(shape=(n_s,), name = \"s0\")\n",
    "    c0 = Input(shape=(n_s,), name = \"c0\")\n",
    "    s = s0\n",
    "    c = c0\n",
    "    outputs = []\n",
    "    a = Bidirectional(LSTM(n_a, return_sequences=True))(X)\n",
    "    for t in range(Ty):\n",
    "        context = one_step_attention(a, s)\n",
    "        s, _, c = post_activation_LSTM_cell(context, initial_state=[s, c])\n",
    "        out = output_layer(s)\n",
    "        outputs.append(out)\n",
    "    model = Model([X, s0, c0], outputs)\n",
    "    return model"
   ]
  },
  {
   "cell_type": "code",
   "execution_count": 52,
   "metadata": {},
   "outputs": [],
   "source": [
    "model = model(Tx, Ty, n_a, n_s, len(human_vocab), len(machine_vocab))"
   ]
  },
  {
   "cell_type": "code",
   "execution_count": 53,
   "metadata": {},
   "outputs": [
    {
     "name": "stdout",
     "output_type": "stream",
     "text": [
      "__________________________________________________________________________________________________\n",
      "Layer (type)                    Output Shape         Param #     Connected to                     \n",
      "==================================================================================================\n",
      "input_4 (InputLayer)            (None, 30, 37)       0                                            \n",
      "__________________________________________________________________________________________________\n",
      "s0 (InputLayer)                 (None, 128)          0                                            \n",
      "__________________________________________________________________________________________________\n",
      "bidirectional_3 (Bidirectional) (None, 30, 128)      52224       input_4[0][0]                    \n",
      "__________________________________________________________________________________________________\n",
      "repeat_vector_2 (RepeatVector)  (None, 30, 128)      0           s0[0][0]                         \n",
      "                                                                 lstm_1[10][0]                    \n",
      "                                                                 lstm_1[11][0]                    \n",
      "                                                                 lstm_1[12][0]                    \n",
      "                                                                 lstm_1[13][0]                    \n",
      "                                                                 lstm_1[14][0]                    \n",
      "                                                                 lstm_1[15][0]                    \n",
      "                                                                 lstm_1[16][0]                    \n",
      "                                                                 lstm_1[17][0]                    \n",
      "                                                                 lstm_1[18][0]                    \n",
      "__________________________________________________________________________________________________\n",
      "concatenate_2 (Concatenate)     (None, 30, 256)      0           bidirectional_3[0][0]            \n",
      "                                                                 repeat_vector_2[11][0]           \n",
      "                                                                 bidirectional_3[0][0]            \n",
      "                                                                 repeat_vector_2[12][0]           \n",
      "                                                                 bidirectional_3[0][0]            \n",
      "                                                                 repeat_vector_2[13][0]           \n",
      "                                                                 bidirectional_3[0][0]            \n",
      "                                                                 repeat_vector_2[14][0]           \n",
      "                                                                 bidirectional_3[0][0]            \n",
      "                                                                 repeat_vector_2[15][0]           \n",
      "                                                                 bidirectional_3[0][0]            \n",
      "                                                                 repeat_vector_2[16][0]           \n",
      "                                                                 bidirectional_3[0][0]            \n",
      "                                                                 repeat_vector_2[17][0]           \n",
      "                                                                 bidirectional_3[0][0]            \n",
      "                                                                 repeat_vector_2[18][0]           \n",
      "                                                                 bidirectional_3[0][0]            \n",
      "                                                                 repeat_vector_2[19][0]           \n",
      "                                                                 bidirectional_3[0][0]            \n",
      "                                                                 repeat_vector_2[20][0]           \n",
      "__________________________________________________________________________________________________\n",
      "dense_2 (Dense)                 (None, 30, 1)        257         concatenate_2[10][0]             \n",
      "                                                                 concatenate_2[11][0]             \n",
      "                                                                 concatenate_2[12][0]             \n",
      "                                                                 concatenate_2[13][0]             \n",
      "                                                                 concatenate_2[14][0]             \n",
      "                                                                 concatenate_2[15][0]             \n",
      "                                                                 concatenate_2[16][0]             \n",
      "                                                                 concatenate_2[17][0]             \n",
      "                                                                 concatenate_2[18][0]             \n",
      "                                                                 concatenate_2[19][0]             \n",
      "__________________________________________________________________________________________________\n",
      "attention_weights (Activation)  (None, 30, 1)        0           dense_2[10][0]                   \n",
      "                                                                 dense_2[11][0]                   \n",
      "                                                                 dense_2[12][0]                   \n",
      "                                                                 dense_2[13][0]                   \n",
      "                                                                 dense_2[14][0]                   \n",
      "                                                                 dense_2[15][0]                   \n",
      "                                                                 dense_2[16][0]                   \n",
      "                                                                 dense_2[17][0]                   \n",
      "                                                                 dense_2[18][0]                   \n",
      "                                                                 dense_2[19][0]                   \n",
      "__________________________________________________________________________________________________\n",
      "dot_2 (Dot)                     (None, 1, 128)       0           attention_weights[10][0]         \n",
      "                                                                 bidirectional_3[0][0]            \n",
      "                                                                 attention_weights[11][0]         \n",
      "                                                                 bidirectional_3[0][0]            \n",
      "                                                                 attention_weights[12][0]         \n",
      "                                                                 bidirectional_3[0][0]            \n",
      "                                                                 attention_weights[13][0]         \n",
      "                                                                 bidirectional_3[0][0]            \n",
      "                                                                 attention_weights[14][0]         \n",
      "                                                                 bidirectional_3[0][0]            \n",
      "                                                                 attention_weights[15][0]         \n",
      "                                                                 bidirectional_3[0][0]            \n",
      "                                                                 attention_weights[16][0]         \n",
      "                                                                 bidirectional_3[0][0]            \n",
      "                                                                 attention_weights[17][0]         \n",
      "                                                                 bidirectional_3[0][0]            \n",
      "                                                                 attention_weights[18][0]         \n",
      "                                                                 bidirectional_3[0][0]            \n",
      "                                                                 attention_weights[19][0]         \n"
     ]
    },
    {
     "name": "stdout",
     "output_type": "stream",
     "text": [
      "                                                                 bidirectional_3[0][0]            \n",
      "__________________________________________________________________________________________________\n",
      "c0 (InputLayer)                 (None, 128)          0                                            \n",
      "__________________________________________________________________________________________________\n",
      "lstm_1 (LSTM)                   [(None, 128), (None, 131584      dot_2[10][0]                     \n",
      "                                                                 s0[0][0]                         \n",
      "                                                                 c0[0][0]                         \n",
      "                                                                 dot_2[11][0]                     \n",
      "                                                                 lstm_1[10][0]                    \n",
      "                                                                 lstm_1[10][2]                    \n",
      "                                                                 dot_2[12][0]                     \n",
      "                                                                 lstm_1[11][0]                    \n",
      "                                                                 lstm_1[11][2]                    \n",
      "                                                                 dot_2[13][0]                     \n",
      "                                                                 lstm_1[12][0]                    \n",
      "                                                                 lstm_1[12][2]                    \n",
      "                                                                 dot_2[14][0]                     \n",
      "                                                                 lstm_1[13][0]                    \n",
      "                                                                 lstm_1[13][2]                    \n",
      "                                                                 dot_2[15][0]                     \n",
      "                                                                 lstm_1[14][0]                    \n",
      "                                                                 lstm_1[14][2]                    \n",
      "                                                                 dot_2[16][0]                     \n",
      "                                                                 lstm_1[15][0]                    \n",
      "                                                                 lstm_1[15][2]                    \n",
      "                                                                 dot_2[17][0]                     \n",
      "                                                                 lstm_1[16][0]                    \n",
      "                                                                 lstm_1[16][2]                    \n",
      "                                                                 dot_2[18][0]                     \n",
      "                                                                 lstm_1[17][0]                    \n",
      "                                                                 lstm_1[17][2]                    \n",
      "                                                                 dot_2[19][0]                     \n",
      "                                                                 lstm_1[18][0]                    \n",
      "                                                                 lstm_1[18][2]                    \n",
      "__________________________________________________________________________________________________\n",
      "dense_3 (Dense)                 (None, 11)           1419        lstm_1[10][0]                    \n",
      "                                                                 lstm_1[11][0]                    \n",
      "                                                                 lstm_1[12][0]                    \n",
      "                                                                 lstm_1[13][0]                    \n",
      "                                                                 lstm_1[14][0]                    \n",
      "                                                                 lstm_1[15][0]                    \n",
      "                                                                 lstm_1[16][0]                    \n",
      "                                                                 lstm_1[17][0]                    \n",
      "                                                                 lstm_1[18][0]                    \n",
      "                                                                 lstm_1[19][0]                    \n",
      "==================================================================================================\n",
      "Total params: 185,484\n",
      "Trainable params: 185,484\n",
      "Non-trainable params: 0\n",
      "__________________________________________________________________________________________________\n"
     ]
    }
   ],
   "source": [
    "model.summary()"
   ]
  },
  {
   "cell_type": "code",
   "execution_count": 54,
   "metadata": {},
   "outputs": [],
   "source": [
    "opt = Adam(lr = 0.005, beta_1=0.9, beta_2=0.999, decay=0.01)\n",
    "model.compile(loss=\"categorical_crossentropy\",optimizer=opt,metrics=['accuracy'])"
   ]
  },
  {
   "cell_type": "code",
   "execution_count": 55,
   "metadata": {},
   "outputs": [],
   "source": [
    "s0 = np.zeros((m, n_s))\n",
    "c0 = np.zeros((m, n_s))\n",
    "outputs = list(Yoh.swapaxes(0,1))"
   ]
  },
  {
   "cell_type": "code",
   "execution_count": 56,
   "metadata": {},
   "outputs": [
    {
     "name": "stdout",
     "output_type": "stream",
     "text": [
      "Epoch 1/1\n"
     ]
    },
    {
     "name": "stdout",
     "output_type": "stream",
     "text": [
      " 2800/10000 [=======>......................] - ETA: 10:11 - loss: 23.9189 - dense_3_loss: 2.3978 - dense_3_acc: 0.1100 - dense_3_acc_1: 0.0000e+00 - dense_3_acc_2: 0.0000e+00 - dense_3_acc_3: 0.0500 - dense_3_acc_4: 0.3400 - dense_3_acc_5: 0.0000e+00 - dense_3_acc_6: 0.0800 - dense_3_acc_7: 0.2200 - dense_3_acc_8: 0.1400 - dense_3_acc_9: 0.10 - ETA: 5:11 - loss: 23.5449 - dense_3_loss: 2.4328 - dense_3_acc: 0.0550 - dense_3_acc_1: 0.0000e+00 - dense_3_acc_2: 0.0000e+00 - dense_3_acc_3: 0.0250 - dense_3_acc_4: 0.6700 - dense_3_acc_5: 0.0000e+00 - dense_3_acc_6: 0.0400 - dense_3_acc_7: 0.6100 - dense_3_acc_8: 0.0700 - dense_3_acc_9: 0.0500 - ETA: 3:30 - loss: 23.0676 - dense_3_loss: 2.5408 - dense_3_acc: 0.0367 - dense_3_acc_1: 0.0000e+00 - dense_3_acc_2: 0.0000e+00 - dense_3_acc_3: 0.0167 - dense_3_acc_4: 0.7800 - dense_3_acc_5: 0.0000e+00 - dense_3_acc_6: 0.0267 - dense_3_acc_7: 0.7400 - dense_3_acc_8: 0.0467 - dense_3_acc_9: 0.033 - ETA: 2:41 - loss: 23.0706 - dense_3_loss: 2.8570 - dense_3_acc: 0.0275 - dense_3_acc_1: 0.0000e+00 - dense_3_acc_2: 0.0000e+00 - dense_3_acc_3: 0.0125 - dense_3_acc_4: 0.8350 - dense_3_acc_5: 0.0000e+00 - dense_3_acc_6: 0.0200 - dense_3_acc_7: 0.8050 - dense_3_acc_8: 0.0350 - dense_3_acc_9: 0.025 - ETA: 2:11 - loss: 22.8272 - dense_3_loss: 2.9058 - dense_3_acc: 0.0220 - dense_3_acc_1: 0.0740 - dense_3_acc_2: 0.0360 - dense_3_acc_3: 0.0100 - dense_3_acc_4: 0.8680 - dense_3_acc_5: 0.0000e+00 - dense_3_acc_6: 0.0160 - dense_3_acc_7: 0.8440 - dense_3_acc_8: 0.0280 - dense_3_acc_9: 0.0200        - ETA: 1:51 - loss: 22.6719 - dense_3_loss: 2.8704 - dense_3_acc: 0.0183 - dense_3_acc_1: 0.1117 - dense_3_acc_2: 0.0517 - dense_3_acc_3: 0.0100 - dense_3_acc_4: 0.8900 - dense_3_acc_5: 0.0000e+00 - dense_3_acc_6: 0.0133 - dense_3_acc_7: 0.8700 - dense_3_acc_8: 0.0567 - dense_3_acc_9: 0.040 - ETA: 1:37 - loss: 22.5589 - dense_3_loss: 2.8390 - dense_3_acc: 0.0157 - dense_3_acc_1: 0.1571 - dense_3_acc_2: 0.0743 - dense_3_acc_3: 0.0086 - dense_3_acc_4: 0.9057 - dense_3_acc_5: 0.0000e+00 - dense_3_acc_6: 0.0114 - dense_3_acc_7: 0.8886 - dense_3_acc_8: 0.0486 - dense_3_acc_9: 0.034 - ETA: 1:26 - loss: 22.4710 - dense_3_loss: 2.8180 - dense_3_acc: 0.0137 - dense_3_acc_1: 0.1775 - dense_3_acc_2: 0.0862 - dense_3_acc_3: 0.0075 - dense_3_acc_4: 0.9175 - dense_3_acc_5: 0.0000e+00 - dense_3_acc_6: 0.0100 - dense_3_acc_7: 0.9025 - dense_3_acc_8: 0.0425 - dense_3_acc_9: 0.030 - ETA: 1:17 - loss: 22.3878 - dense_3_loss: 2.8013 - dense_3_acc: 0.0122 - dense_3_acc_1: 0.1956 - dense_3_acc_2: 0.0867 - dense_3_acc_3: 0.0067 - dense_3_acc_4: 0.9267 - dense_3_acc_5: 0.0000e+00 - dense_3_acc_6: 0.0089 - dense_3_acc_7: 0.9133 - dense_3_acc_8: 0.0378 - dense_3_acc_9: 0.026 - ETA: 1:10 - loss: 22.2910 - dense_3_loss: 2.7923 - dense_3_acc: 0.0110 - dense_3_acc_1: 0.2110 - dense_3_acc_2: 0.1010 - dense_3_acc_3: 0.0060 - dense_3_acc_4: 0.9340 - dense_3_acc_5: 0.0000e+00 - dense_3_acc_6: 0.0080 - dense_3_acc_7: 0.9220 - dense_3_acc_8: 0.0340 - dense_3_acc_9: 0.024 - ETA: 1:05 - loss: 22.1940 - dense_3_loss: 2.7932 - dense_3_acc: 0.0100 - dense_3_acc_1: 0.2273 - dense_3_acc_2: 0.1064 - dense_3_acc_3: 0.0055 - dense_3_acc_4: 0.9400 - dense_3_acc_5: 0.0000e+00 - dense_3_acc_6: 0.0073 - dense_3_acc_7: 0.9291 - dense_3_acc_8: 0.0309 - dense_3_acc_9: 0.021 - ETA: 1:00 - loss: 22.1012 - dense_3_loss: 2.7889 - dense_3_acc: 0.0092 - dense_3_acc_1: 0.2392 - dense_3_acc_2: 0.1125 - dense_3_acc_3: 0.0050 - dense_3_acc_4: 0.9450 - dense_3_acc_5: 0.0000e+00 - dense_3_acc_6: 0.0067 - dense_3_acc_7: 0.9350 - dense_3_acc_8: 0.0283 - dense_3_acc_9: 0.020 - ETA: 56s - loss: 22.0215 - dense_3_loss: 2.7985 - dense_3_acc: 0.0085 - dense_3_acc_1: 0.2515 - dense_3_acc_2: 0.1208 - dense_3_acc_3: 0.0046 - dense_3_acc_4: 0.9492 - dense_3_acc_5: 0.0000e+00 - dense_3_acc_6: 0.0062 - dense_3_acc_7: 0.9400 - dense_3_acc_8: 0.0262 - dense_3_acc_9: 0.018 - ETA: 52s - loss: 21.9394 - dense_3_loss: 2.8035 - dense_3_acc: 0.0079 - dense_3_acc_1: 0.2543 - dense_3_acc_2: 0.1186 - dense_3_acc_3: 0.0121 - dense_3_acc_4: 0.9529 - dense_3_acc_5: 0.0000e+00 - dense_3_acc_6: 0.0057 - dense_3_acc_7: 0.9443 - dense_3_acc_8: 0.0243 - dense_3_acc_9: 0.01 - ETA: 50s - loss: 21.8647 - dense_3_loss: 2.8183 - dense_3_acc: 0.0073 - dense_3_acc_1: 0.2653 - dense_3_acc_2: 0.1260 - dense_3_acc_3: 0.0173 - dense_3_acc_4: 0.9540 - dense_3_acc_5: 0.0000e+00 - dense_3_acc_6: 0.0053 - dense_3_acc_7: 0.9480 - dense_3_acc_8: 0.0227 - dense_3_acc_9: 0.01 - ETA: 48s - loss: 21.7919 - dense_3_loss: 2.8133 - dense_3_acc: 0.0069 - dense_3_acc_1: 0.2644 - dense_3_acc_2: 0.1281 - dense_3_acc_3: 0.0238 - dense_3_acc_4: 0.8944 - dense_3_acc_5: 6.2500e-04 - dense_3_acc_6: 0.0050 - dense_3_acc_7: 0.9512 - dense_3_acc_8: 0.0213 - dense_3_acc_9: 0.02 - ETA: 45s - loss: 21.7105 - dense_3_loss: 2.8117 - dense_3_acc: 0.0065 - dense_3_acc_1: 0.2712 - dense_3_acc_2: 0.1347 - dense_3_acc_3: 0.0294 - dense_3_acc_4: 0.9006 - dense_3_acc_5: 5.8824e-04 - dense_3_acc_6: 0.0047 - dense_3_acc_7: 0.9541 - dense_3_acc_8: 0.0200 - dense_3_acc_9: 0.02 - ETA: 43s - loss: 21.6405 - dense_3_loss: 2.8097 - dense_3_acc: 0.0061 - dense_3_acc_1: 0.2956 - dense_3_acc_2: 0.1344 - dense_3_acc_3: 0.0322 - dense_3_acc_4: 0.9061 - dense_3_acc_5: 5.5556e-04 - dense_3_acc_6: 0.0044 - dense_3_acc_7: 0.9567 - dense_3_acc_8: 0.0189 - dense_3_acc_9: 0.02 - ETA: 41s - loss: 21.5824 - dense_3_loss: 2.8063 - dense_3_acc: 0.0058 - dense_3_acc_1: 0.3111 - dense_3_acc_2: 0.1358 - dense_3_acc_3: 0.0305 - dense_3_acc_4: 0.9111 - dense_3_acc_5: 5.2632e-04 - dense_3_acc_6: 0.0042 - dense_3_acc_7: 0.9589 - dense_3_acc_8: 0.0179 - dense_3_acc_9: 0.02 - ETA: 39s - loss: 21.5048 - dense_3_loss: 2.7974 - dense_3_acc: 0.0055 - dense_3_acc_1: 0.3255 - dense_3_acc_2: 0.1385 - dense_3_acc_3: 0.0290 - dense_3_acc_4: 0.9155 - dense_3_acc_5: 5.0000e-04 - dense_3_acc_6: 0.0040 - dense_3_acc_7: 0.9610 - dense_3_acc_8: 0.0170 - dense_3_acc_9: 0.02 - ETA: 38s - loss: 21.4327 - dense_3_loss: 2.7884 - dense_3_acc: 0.0052 - dense_3_acc_1: 0.3457 - dense_3_acc_2: 0.1395 - dense_3_acc_3: 0.0276 - dense_3_acc_4: 0.9195 - dense_3_acc_5: 4.7619e-04 - dense_3_acc_6: 0.0038 - dense_3_acc_7: 0.9629 - dense_3_acc_8: 0.0319 - dense_3_acc_9: 0.03 - ETA: 36s - loss: 21.3645 - dense_3_loss: 2.7771 - dense_3_acc: 0.0050 - dense_3_acc_1: 0.3595 - dense_3_acc_2: 0.1436 - dense_3_acc_3: 0.0264 - dense_3_acc_4: 0.9232 - dense_3_acc_5: 4.5455e-04 - dense_3_acc_6: 0.0036 - dense_3_acc_7: 0.9645 - dense_3_acc_8: 0.0486 - dense_3_acc_9: 0.03 - ETA: 35s - loss: 21.3090 - dense_3_loss: 2.7710 - dense_3_acc: 0.0048 - dense_3_acc_1: 0.3687 - dense_3_acc_2: 0.1457 - dense_3_acc_3: 0.0252 - dense_3_acc_4: 0.9265 - dense_3_acc_5: 4.3478e-04 - dense_3_acc_6: 0.0035 - dense_3_acc_7: 0.9661 - dense_3_acc_8: 0.0583 - dense_3_acc_9: 0.04 - ETA: 34s - loss: 21.2445 - dense_3_loss: 2.7665 - dense_3_acc: 0.0046 - dense_3_acc_1: 0.3775 - dense_3_acc_2: 0.1475 - dense_3_acc_3: 0.0242 - dense_3_acc_4: 0.9296 - dense_3_acc_5: 4.1667e-04 - dense_3_acc_6: 0.0033 - dense_3_acc_7: 0.9367 - dense_3_acc_8: 0.0688 - dense_3_acc_9: 0.04 - ETA: 33s - loss: 21.1782 - dense_3_loss: 2.7690 - dense_3_acc: 0.0044 - dense_3_acc_1: 0.3892 - dense_3_acc_2: 0.1536 - dense_3_acc_3: 0.0232 - dense_3_acc_4: 0.9324 - dense_3_acc_5: 4.0000e-04 - dense_3_acc_6: 0.0032 - dense_3_acc_7: 0.9228 - dense_3_acc_8: 0.0828 - dense_3_acc_9: 0.04 - ETA: 32s - loss: 21.1078 - dense_3_loss: 2.7665 - dense_3_acc: 0.0042 - dense_3_acc_1: 0.3988 - dense_3_acc_2: 0.1585 - dense_3_acc_3: 0.0223 - dense_3_acc_4: 0.9350 - dense_3_acc_5: 3.8462e-04 - dense_3_acc_6: 0.0031 - dense_3_acc_7: 0.9258 - dense_3_acc_8: 0.0942 - dense_3_acc_9: 0.04 - ETA: 31s - loss: 21.0425 - dense_3_loss: 2.7687 - dense_3_acc: 0.0041 - dense_3_acc_1: 0.4059 - dense_3_acc_2: 0.1585 - dense_3_acc_3: 0.0215 - dense_3_acc_4: 0.9374 - dense_3_acc_5: 3.7037e-04 - dense_3_acc_6: 0.0030 - dense_3_acc_7: 0.9285 - dense_3_acc_8: 0.0907 - dense_3_acc_9: 0.04 - ETA: 30s - loss: 20.9695 - dense_3_loss: 2.7692 - dense_3_acc: 0.0039 - dense_3_acc_1: 0.4121 - dense_3_acc_2: 0.1618 - dense_3_acc_3: 0.0207 - dense_3_acc_4: 0.9396 - dense_3_acc_5: 3.5714e-04 - dense_3_acc_6: 0.0029 - dense_3_acc_7: 0.9311 - dense_3_acc_8: 0.0875 - dense_3_acc_9: 0.0493\b\b\b\b\b\b\b\b\b\b\b\b\b\b\b\b\b\b\b\b\b\b\b\b\b\b\b\b\b\b\b\b\b\b\b\b\b\b\b\b\b\b\b\b\b\b\b\b\b\b\b\b\b\b\b\b\b\b\b\b\b\b\b\b\b\b\b\b\b\b\b\b\b\b\b\b\b\b\b\b\b\b\b\b\b\b\b\b\b\b\b\b\b\b\b\b\b\b\b\b\b\b\b\b\b\b\b\b\b\b\b\b\b\b\b\b\b\b\b\b\b\b\b\b\b\b\b\b\b\b\b\b\b\b\b\b\b\b\b\b\b\b\b\b\b\b\b\b\b\b\b\b\b\b\b\b\b\b\b\b\b\b\b\b\b\b\b\b\b\b\b\b\b\b\b\b\b\b\b\b\b\b\b\b\b\b\b\b\b\b\b\b\b\b\b\b\b\b\b\b\b\b\b\b\b\b\b\b\b\b\b\b\b\b\b\b\b\b\b\b\b\b\b\b\b\b\b\b\b\b\b\b\b\b\b\b\b\b\b\b\b\b\b\b\b\b\b\b\b\b\b\b\b\b\b\b\b\b\b\b\b\b\b\b\b\b\b\b\b\b\b\b\b\b\b\b\b\b\b\b\b\b\b\b\b\b\b\b\b\b\b\b\b\b\b\b\b\b\b\b\b\b\b\b\b\b\b\b\b\b\b\b\b\b\b\b\b\b\b\b\b\b\b\b\b\b\b\b\b\b\b\b\b\b\b\b"
     ]
    },
    {
     "name": "stdout",
     "output_type": "stream",
     "text": [
      " 5700/10000 [================>.............] - ETA: 29s - loss: 20.8849 - dense_3_loss: 2.7660 - dense_3_acc: 0.0283 - dense_3_acc_1: 0.4224 - dense_3_acc_2: 0.1638 - dense_3_acc_3: 0.0203 - dense_3_acc_4: 0.9417 - dense_3_acc_5: 3.4483e-04 - dense_3_acc_6: 0.0028 - dense_3_acc_7: 0.9334 - dense_3_acc_8: 0.0959 - dense_3_acc_9: 0.05 - ETA: 28s - loss: 20.8212 - dense_3_loss: 2.7688 - dense_3_acc: 0.0480 - dense_3_acc_1: 0.4290 - dense_3_acc_2: 0.1680 - dense_3_acc_3: 0.0210 - dense_3_acc_4: 0.9437 - dense_3_acc_5: 3.3333e-04 - dense_3_acc_6: 0.0027 - dense_3_acc_7: 0.9147 - dense_3_acc_8: 0.1023 - dense_3_acc_9: 0.05 - ETA: 27s - loss: 20.7475 - dense_3_loss: 2.7695 - dense_3_acc: 0.0671 - dense_3_acc_1: 0.4358 - dense_3_acc_2: 0.1742 - dense_3_acc_3: 0.0229 - dense_3_acc_4: 0.9455 - dense_3_acc_5: 3.2258e-04 - dense_3_acc_6: 0.0026 - dense_3_acc_7: 0.9174 - dense_3_acc_8: 0.1061 - dense_3_acc_9: 0.05 - ETA: 26s - loss: 20.6812 - dense_3_loss: 2.7705 - dense_3_acc: 0.0831 - dense_3_acc_1: 0.4403 - dense_3_acc_2: 0.1784 - dense_3_acc_3: 0.0250 - dense_3_acc_4: 0.9472 - dense_3_acc_5: 3.1250e-04 - dense_3_acc_6: 0.0025 - dense_3_acc_7: 0.9200 - dense_3_acc_8: 0.1028 - dense_3_acc_9: 0.05 - ETA: 25s - loss: 20.5992 - dense_3_loss: 2.7699 - dense_3_acc: 0.1009 - dense_3_acc_1: 0.4473 - dense_3_acc_2: 0.1852 - dense_3_acc_3: 0.0255 - dense_3_acc_4: 0.9488 - dense_3_acc_5: 3.0303e-04 - dense_3_acc_6: 0.0024 - dense_3_acc_7: 0.9224 - dense_3_acc_8: 0.0997 - dense_3_acc_9: 0.06 - ETA: 25s - loss: 20.5270 - dense_3_loss: 2.7757 - dense_3_acc: 0.1165 - dense_3_acc_1: 0.4526 - dense_3_acc_2: 0.1909 - dense_3_acc_3: 0.0262 - dense_3_acc_4: 0.9503 - dense_3_acc_5: 2.9412e-04 - dense_3_acc_6: 0.0026 - dense_3_acc_7: 0.9229 - dense_3_acc_8: 0.1059 - dense_3_acc_9: 0.06 - ETA: 24s - loss: 20.4532 - dense_3_loss: 2.7755 - dense_3_acc: 0.1326 - dense_3_acc_1: 0.4591 - dense_3_acc_2: 0.1951 - dense_3_acc_3: 0.0257 - dense_3_acc_4: 0.9517 - dense_3_acc_5: 2.8571e-04 - dense_3_acc_6: 0.0029 - dense_3_acc_7: 0.9063 - dense_3_acc_8: 0.1163 - dense_3_acc_9: 0.06 - ETA: 23s - loss: 20.3840 - dense_3_loss: 2.7739 - dense_3_acc: 0.1458 - dense_3_acc_1: 0.4633 - dense_3_acc_2: 0.1978 - dense_3_acc_3: 0.0258 - dense_3_acc_4: 0.9531 - dense_3_acc_5: 2.7778e-04 - dense_3_acc_6: 0.0033 - dense_3_acc_7: 0.9058 - dense_3_acc_8: 0.1256 - dense_3_acc_9: 0.06 - ETA: 23s - loss: 20.3188 - dense_3_loss: 2.7734 - dense_3_acc: 0.1586 - dense_3_acc_1: 0.4676 - dense_3_acc_2: 0.2027 - dense_3_acc_3: 0.0276 - dense_3_acc_4: 0.9543 - dense_3_acc_5: 5.4054e-04 - dense_3_acc_6: 0.0041 - dense_3_acc_7: 0.8989 - dense_3_acc_8: 0.1316 - dense_3_acc_9: 0.06 - ETA: 22s - loss: 20.2501 - dense_3_loss: 2.7692 - dense_3_acc: 0.1711 - dense_3_acc_1: 0.4758 - dense_3_acc_2: 0.2050 - dense_3_acc_3: 0.0271 - dense_3_acc_4: 0.9555 - dense_3_acc_5: 5.2632e-04 - dense_3_acc_6: 0.0039 - dense_3_acc_7: 0.8971 - dense_3_acc_8: 0.1332 - dense_3_acc_9: 0.06 - ETA: 21s - loss: 20.1844 - dense_3_loss: 2.7698 - dense_3_acc: 0.1833 - dense_3_acc_1: 0.4831 - dense_3_acc_2: 0.2064 - dense_3_acc_3: 0.0264 - dense_3_acc_4: 0.9567 - dense_3_acc_5: 5.1282e-04 - dense_3_acc_6: 0.0038 - dense_3_acc_7: 0.8987 - dense_3_acc_8: 0.1392 - dense_3_acc_9: 0.07 - ETA: 21s - loss: 20.1119 - dense_3_loss: 2.7701 - dense_3_acc: 0.1930 - dense_3_acc_1: 0.4852 - dense_3_acc_2: 0.2105 - dense_3_acc_3: 0.0262 - dense_3_acc_4: 0.9578 - dense_3_acc_5: 0.0015 - dense_3_acc_6: 0.0057 - dense_3_acc_7: 0.8892 - dense_3_acc_8: 0.1480 - dense_3_acc_9: 0.0705   - ETA: 20s - loss: 20.0210 - dense_3_loss: 2.7702 - dense_3_acc: 0.2054 - dense_3_acc_1: 0.4905 - dense_3_acc_2: 0.2141 - dense_3_acc_3: 0.0280 - dense_3_acc_4: 0.9588 - dense_3_acc_5: 0.0034 - dense_3_acc_6: 0.0090 - dense_3_acc_7: 0.8783 - dense_3_acc_8: 0.1544 - dense_3_acc_9: 0.07 - ETA: 20s - loss: 19.9397 - dense_3_loss: 2.7683 - dense_3_acc: 0.2152 - dense_3_acc_1: 0.4964 - dense_3_acc_2: 0.2181 - dense_3_acc_3: 0.0295 - dense_3_acc_4: 0.9598 - dense_3_acc_5: 0.0033 - dense_3_acc_6: 0.0093 - dense_3_acc_7: 0.8807 - dense_3_acc_8: 0.1593 - dense_3_acc_9: 0.07 - ETA: 19s - loss: 19.8550 - dense_3_loss: 2.7663 - dense_3_acc: 0.2251 - dense_3_acc_1: 0.5051 - dense_3_acc_2: 0.2230 - dense_3_acc_3: 0.0314 - dense_3_acc_4: 0.9607 - dense_3_acc_5: 0.0133 - dense_3_acc_6: 0.0093 - dense_3_acc_7: 0.8835 - dense_3_acc_8: 0.1607 - dense_3_acc_9: 0.07 - ETA: 18s - loss: 19.7644 - dense_3_loss: 2.7639 - dense_3_acc: 0.2343 - dense_3_acc_1: 0.5130 - dense_3_acc_2: 0.2266 - dense_3_acc_3: 0.0325 - dense_3_acc_4: 0.9616 - dense_3_acc_5: 0.0311 - dense_3_acc_6: 0.0102 - dense_3_acc_7: 0.8861 - dense_3_acc_8: 0.1614 - dense_3_acc_9: 0.07 - ETA: 18s - loss: 19.6646 - dense_3_loss: 2.7598 - dense_3_acc: 0.2451 - dense_3_acc_1: 0.5182 - dense_3_acc_2: 0.2296 - dense_3_acc_3: 0.0331 - dense_3_acc_4: 0.9624 - dense_3_acc_5: 0.0453 - dense_3_acc_6: 0.0104 - dense_3_acc_7: 0.8887 - dense_3_acc_8: 0.1660 - dense_3_acc_9: 0.07 - ETA: 17s - loss: 19.5819 - dense_3_loss: 2.7547 - dense_3_acc: 0.2502 - dense_3_acc_1: 0.5185 - dense_3_acc_2: 0.2293 - dense_3_acc_3: 0.0357 - dense_3_acc_4: 0.9633 - dense_3_acc_5: 0.0596 - dense_3_acc_6: 0.0115 - dense_3_acc_7: 0.8911 - dense_3_acc_8: 0.1722 - dense_3_acc_9: 0.07 - ETA: 17s - loss: 19.4863 - dense_3_loss: 2.7506 - dense_3_acc: 0.2583 - dense_3_acc_1: 0.5260 - dense_3_acc_2: 0.2317 - dense_3_acc_3: 0.0360 - dense_3_acc_4: 0.9640 - dense_3_acc_5: 0.0747 - dense_3_acc_6: 0.0123 - dense_3_acc_7: 0.8934 - dense_3_acc_8: 0.1766 - dense_3_acc_9: 0.07 - ETA: 16s - loss: 19.3785 - dense_3_loss: 2.7459 - dense_3_acc: 0.2667 - dense_3_acc_1: 0.5333 - dense_3_acc_2: 0.2348 - dense_3_acc_3: 0.0379 - dense_3_acc_4: 0.9648 - dense_3_acc_5: 0.0879 - dense_3_acc_6: 0.0154 - dense_3_acc_7: 0.8956 - dense_3_acc_8: 0.1823 - dense_3_acc_9: 0.07 - ETA: 16s - loss: 19.2669 - dense_3_loss: 2.7392 - dense_3_acc: 0.2724 - dense_3_acc_1: 0.5392 - dense_3_acc_2: 0.2378 - dense_3_acc_3: 0.0388 - dense_3_acc_4: 0.9655 - dense_3_acc_5: 0.0992 - dense_3_acc_6: 0.0163 - dense_3_acc_7: 0.8978 - dense_3_acc_8: 0.1871 - dense_3_acc_9: 0.08 - ETA: 16s - loss: 19.1540 - dense_3_loss: 2.7330 - dense_3_acc: 0.2786 - dense_3_acc_1: 0.5424 - dense_3_acc_2: 0.2386 - dense_3_acc_3: 0.0398 - dense_3_acc_4: 0.9662 - dense_3_acc_5: 0.1054 - dense_3_acc_6: 0.0182 - dense_3_acc_7: 0.8998 - dense_3_acc_8: 0.1906 - dense_3_acc_9: 0.08 - ETA: 15s - loss: 19.0320 - dense_3_loss: 2.7272 - dense_3_acc: 0.2855 - dense_3_acc_1: 0.5482 - dense_3_acc_2: 0.2410 - dense_3_acc_3: 0.0404 - dense_3_acc_4: 0.9669 - dense_3_acc_5: 0.1139 - dense_3_acc_6: 0.0202 - dense_3_acc_7: 0.9018 - dense_3_acc_8: 0.1939 - dense_3_acc_9: 0.08 - ETA: 15s - loss: 18.9114 - dense_3_loss: 2.7239 - dense_3_acc: 0.2937 - dense_3_acc_1: 0.5546 - dense_3_acc_2: 0.2433 - dense_3_acc_3: 0.0417 - dense_3_acc_4: 0.9675 - dense_3_acc_5: 0.1275 - dense_3_acc_6: 0.0215 - dense_3_acc_7: 0.9037 - dense_3_acc_8: 0.1983 - dense_3_acc_9: 0.08 - ETA: 14s - loss: 18.8018 - dense_3_loss: 2.7164 - dense_3_acc: 0.3053 - dense_3_acc_1: 0.5619 - dense_3_acc_2: 0.2464 - dense_3_acc_3: 0.0409 - dense_3_acc_4: 0.9681 - dense_3_acc_5: 0.1413 - dense_3_acc_6: 0.0211 - dense_3_acc_7: 0.9055 - dense_3_acc_8: 0.2025 - dense_3_acc_9: 0.08 - ETA: 14s - loss: 18.6766 - dense_3_loss: 2.7107 - dense_3_acc: 0.3152 - dense_3_acc_1: 0.5681 - dense_3_acc_2: 0.2481 - dense_3_acc_3: 0.0411 - dense_3_acc_4: 0.9687 - dense_3_acc_5: 0.1533 - dense_3_acc_6: 0.0219 - dense_3_acc_7: 0.9072 - dense_3_acc_8: 0.2070 - dense_3_acc_9: 0.08 - ETA: 13s - loss: 18.6064 - dense_3_loss: 2.7133 - dense_3_acc: 0.3258 - dense_3_acc_1: 0.5744 - dense_3_acc_2: 0.2498 - dense_3_acc_3: 0.0422 - dense_3_acc_4: 0.9693 - dense_3_acc_5: 0.1633 - dense_3_acc_6: 0.0231 - dense_3_acc_7: 0.9089 - dense_3_acc_8: 0.2055 - dense_3_acc_9: 0.08 - ETA: 13s - loss: 18.5158 - dense_3_loss: 2.7059 - dense_3_acc: 0.3359 - dense_3_acc_1: 0.5807 - dense_3_acc_2: 0.2527 - dense_3_acc_3: 0.0414 - dense_3_acc_4: 0.9698 - dense_3_acc_5: 0.1741 - dense_3_acc_6: 0.0227 - dense_3_acc_7: 0.9105 - dense_3_acc_8: 0.2077 - dense_3_acc_9: 0.08 - ETA: 13s - loss: 18.5667 - dense_3_loss: 2.7055 - dense_3_acc: 0.3458 - dense_3_acc_1: 0.5865 - dense_3_acc_2: 0.2547 - dense_3_acc_3: 0.0407 - dense_3_acc_4: 0.9528 - dense_3_acc_5: 0.1844 - dense_3_acc_6: 0.0223 - dense_3_acc_7: 0.8960 - dense_3_acc_8: 0.2091 - dense_3_acc_9: 0.0882"
     ]
    },
    {
     "name": "stdout",
     "output_type": "stream",
     "text": [
      " 8600/10000 [========================>.....] - ETA: 12s - loss: 18.5004 - dense_3_loss: 2.6986 - dense_3_acc: 0.3560 - dense_3_acc_1: 0.5922 - dense_3_acc_2: 0.2581 - dense_3_acc_3: 0.0400 - dense_3_acc_4: 0.9524 - dense_3_acc_5: 0.1943 - dense_3_acc_6: 0.0219 - dense_3_acc_7: 0.8978 - dense_3_acc_8: 0.2134 - dense_3_acc_9: 0.08 - ETA: 12s - loss: 18.4078 - dense_3_loss: 2.6929 - dense_3_acc: 0.3653 - dense_3_acc_1: 0.5969 - dense_3_acc_2: 0.2600 - dense_3_acc_3: 0.0398 - dense_3_acc_4: 0.9532 - dense_3_acc_5: 0.2032 - dense_3_acc_6: 0.0232 - dense_3_acc_7: 0.8995 - dense_3_acc_8: 0.2159 - dense_3_acc_9: 0.08 - ETA: 12s - loss: 18.3100 - dense_3_loss: 2.6869 - dense_3_acc: 0.3737 - dense_3_acc_1: 0.6027 - dense_3_acc_2: 0.2622 - dense_3_acc_3: 0.0420 - dense_3_acc_4: 0.9540 - dense_3_acc_5: 0.2137 - dense_3_acc_6: 0.0237 - dense_3_acc_7: 0.9012 - dense_3_acc_8: 0.2177 - dense_3_acc_9: 0.09 - ETA: 11s - loss: 18.2490 - dense_3_loss: 2.6843 - dense_3_acc: 0.3795 - dense_3_acc_1: 0.6064 - dense_3_acc_2: 0.2631 - dense_3_acc_3: 0.0434 - dense_3_acc_4: 0.9548 - dense_3_acc_5: 0.2221 - dense_3_acc_6: 0.0252 - dense_3_acc_7: 0.9028 - dense_3_acc_8: 0.2152 - dense_3_acc_9: 0.09 - ETA: 11s - loss: 18.1738 - dense_3_loss: 2.6788 - dense_3_acc: 0.3832 - dense_3_acc_1: 0.6069 - dense_3_acc_2: 0.2629 - dense_3_acc_3: 0.0455 - dense_3_acc_4: 0.9555 - dense_3_acc_5: 0.2315 - dense_3_acc_6: 0.0273 - dense_3_acc_7: 0.9044 - dense_3_acc_8: 0.2152 - dense_3_acc_9: 0.09 - ETA: 11s - loss: 18.0840 - dense_3_loss: 2.6748 - dense_3_acc: 0.3879 - dense_3_acc_1: 0.6090 - dense_3_acc_2: 0.2638 - dense_3_acc_3: 0.0467 - dense_3_acc_4: 0.9562 - dense_3_acc_5: 0.2389 - dense_3_acc_6: 0.0303 - dense_3_acc_7: 0.9059 - dense_3_acc_8: 0.2171 - dense_3_acc_9: 0.09 - ETA: 10s - loss: 17.9948 - dense_3_loss: 2.6696 - dense_3_acc: 0.3917 - dense_3_acc_1: 0.6105 - dense_3_acc_2: 0.2633 - dense_3_acc_3: 0.0477 - dense_3_acc_4: 0.9569 - dense_3_acc_5: 0.2477 - dense_3_acc_6: 0.0327 - dense_3_acc_7: 0.9073 - dense_3_acc_8: 0.2181 - dense_3_acc_9: 0.09 - ETA: 10s - loss: 17.9026 - dense_3_loss: 2.6646 - dense_3_acc: 0.3952 - dense_3_acc_1: 0.6114 - dense_3_acc_2: 0.2638 - dense_3_acc_3: 0.0480 - dense_3_acc_4: 0.9575 - dense_3_acc_5: 0.2562 - dense_3_acc_6: 0.0348 - dense_3_acc_7: 0.9088 - dense_3_acc_8: 0.2197 - dense_3_acc_9: 0.09 - ETA: 10s - loss: 17.8073 - dense_3_loss: 2.6592 - dense_3_acc: 0.3979 - dense_3_acc_1: 0.6150 - dense_3_acc_2: 0.2658 - dense_3_acc_3: 0.0498 - dense_3_acc_4: 0.9582 - dense_3_acc_5: 0.2639 - dense_3_acc_6: 0.0368 - dense_3_acc_7: 0.9102 - dense_3_acc_8: 0.2208 - dense_3_acc_9: 0.09 - ETA: 9s - loss: 17.7149 - dense_3_loss: 2.6537 - dense_3_acc: 0.4039 - dense_3_acc_1: 0.6199 - dense_3_acc_2: 0.2667 - dense_3_acc_3: 0.0509 - dense_3_acc_4: 0.9588 - dense_3_acc_5: 0.2709 - dense_3_acc_6: 0.0384 - dense_3_acc_7: 0.9115 - dense_3_acc_8: 0.2231 - dense_3_acc_9: 0.0964 - ETA: 9s - loss: 17.6239 - dense_3_loss: 2.6489 - dense_3_acc: 0.4094 - dense_3_acc_1: 0.6238 - dense_3_acc_2: 0.2696 - dense_3_acc_3: 0.0510 - dense_3_acc_4: 0.9594 - dense_3_acc_5: 0.2782 - dense_3_acc_6: 0.0403 - dense_3_acc_7: 0.9128 - dense_3_acc_8: 0.2266 - dense_3_acc_9: 0.097 - ETA: 9s - loss: 17.5392 - dense_3_loss: 2.6446 - dense_3_acc: 0.4165 - dense_3_acc_1: 0.6264 - dense_3_acc_2: 0.2699 - dense_3_acc_3: 0.0516 - dense_3_acc_4: 0.9600 - dense_3_acc_5: 0.2855 - dense_3_acc_6: 0.0420 - dense_3_acc_7: 0.9141 - dense_3_acc_8: 0.2288 - dense_3_acc_9: 0.097 - ETA: 8s - loss: 17.4574 - dense_3_loss: 2.6401 - dense_3_acc: 0.4227 - dense_3_acc_1: 0.6290 - dense_3_acc_2: 0.2707 - dense_3_acc_3: 0.0524 - dense_3_acc_4: 0.9606 - dense_3_acc_5: 0.2916 - dense_3_acc_6: 0.0449 - dense_3_acc_7: 0.9153 - dense_3_acc_8: 0.2307 - dense_3_acc_9: 0.097 - ETA: 8s - loss: 17.3722 - dense_3_loss: 2.6353 - dense_3_acc: 0.4296 - dense_3_acc_1: 0.6323 - dense_3_acc_2: 0.2715 - dense_3_acc_3: 0.0530 - dense_3_acc_4: 0.9611 - dense_3_acc_5: 0.2979 - dense_3_acc_6: 0.0469 - dense_3_acc_7: 0.9165 - dense_3_acc_8: 0.2337 - dense_3_acc_9: 0.098 - ETA: 8s - loss: 17.2889 - dense_3_loss: 2.6312 - dense_3_acc: 0.4353 - dense_3_acc_1: 0.6364 - dense_3_acc_2: 0.2728 - dense_3_acc_3: 0.0529 - dense_3_acc_4: 0.9617 - dense_3_acc_5: 0.3043 - dense_3_acc_6: 0.0485 - dense_3_acc_7: 0.9176 - dense_3_acc_8: 0.2354 - dense_3_acc_9: 0.099 - ETA: 7s - loss: 17.2055 - dense_3_loss: 2.6268 - dense_3_acc: 0.4397 - dense_3_acc_1: 0.6408 - dense_3_acc_2: 0.2751 - dense_3_acc_3: 0.0538 - dense_3_acc_4: 0.9622 - dense_3_acc_5: 0.3107 - dense_3_acc_6: 0.0501 - dense_3_acc_7: 0.9188 - dense_3_acc_8: 0.2374 - dense_3_acc_9: 0.098 - ETA: 7s - loss: 17.1246 - dense_3_loss: 2.6228 - dense_3_acc: 0.4438 - dense_3_acc_1: 0.6449 - dense_3_acc_2: 0.2773 - dense_3_acc_3: 0.0543 - dense_3_acc_4: 0.9627 - dense_3_acc_5: 0.3165 - dense_3_acc_6: 0.0528 - dense_3_acc_7: 0.9199 - dense_3_acc_8: 0.2401 - dense_3_acc_9: 0.098 - ETA: 7s - loss: 17.0481 - dense_3_loss: 2.6186 - dense_3_acc: 0.4472 - dense_3_acc_1: 0.6480 - dense_3_acc_2: 0.2799 - dense_3_acc_3: 0.0560 - dense_3_acc_4: 0.9632 - dense_3_acc_5: 0.3223 - dense_3_acc_6: 0.0544 - dense_3_acc_7: 0.9209 - dense_3_acc_8: 0.2419 - dense_3_acc_9: 0.098 - ETA: 6s - loss: 16.9719 - dense_3_loss: 2.6149 - dense_3_acc: 0.4514 - dense_3_acc_1: 0.6512 - dense_3_acc_2: 0.2808 - dense_3_acc_3: 0.0574 - dense_3_acc_4: 0.9637 - dense_3_acc_5: 0.3280 - dense_3_acc_6: 0.0561 - dense_3_acc_7: 0.9220 - dense_3_acc_8: 0.2422 - dense_3_acc_9: 0.099 - ETA: 6s - loss: 16.8968 - dense_3_loss: 2.6114 - dense_3_acc: 0.4555 - dense_3_acc_1: 0.6540 - dense_3_acc_2: 0.2809 - dense_3_acc_3: 0.0574 - dense_3_acc_4: 0.9642 - dense_3_acc_5: 0.3331 - dense_3_acc_6: 0.0577 - dense_3_acc_7: 0.9230 - dense_3_acc_8: 0.2445 - dense_3_acc_9: 0.099 - ETA: 6s - loss: 16.8210 - dense_3_loss: 2.6072 - dense_3_acc: 0.4601 - dense_3_acc_1: 0.6572 - dense_3_acc_2: 0.2826 - dense_3_acc_3: 0.0581 - dense_3_acc_4: 0.9646 - dense_3_acc_5: 0.3385 - dense_3_acc_6: 0.0601 - dense_3_acc_7: 0.9240 - dense_3_acc_8: 0.2469 - dense_3_acc_9: 0.099 - ETA: 5s - loss: 16.7410 - dense_3_loss: 2.6029 - dense_3_acc: 0.4657 - dense_3_acc_1: 0.6611 - dense_3_acc_2: 0.2843 - dense_3_acc_3: 0.0585 - dense_3_acc_4: 0.9651 - dense_3_acc_5: 0.3453 - dense_3_acc_6: 0.0615 - dense_3_acc_7: 0.9249 - dense_3_acc_8: 0.2503 - dense_3_acc_9: 0.099 - ETA: 5s - loss: 16.6670 - dense_3_loss: 2.5991 - dense_3_acc: 0.4721 - dense_3_acc_1: 0.6647 - dense_3_acc_2: 0.2850 - dense_3_acc_3: 0.0589 - dense_3_acc_4: 0.9655 - dense_3_acc_5: 0.3500 - dense_3_acc_6: 0.0631 - dense_3_acc_7: 0.9259 - dense_3_acc_8: 0.2524 - dense_3_acc_9: 0.100 - ETA: 5s - loss: 16.5955 - dense_3_loss: 2.5954 - dense_3_acc: 0.4774 - dense_3_acc_1: 0.6677 - dense_3_acc_2: 0.2865 - dense_3_acc_3: 0.0604 - dense_3_acc_4: 0.9659 - dense_3_acc_5: 0.3549 - dense_3_acc_6: 0.0644 - dense_3_acc_7: 0.9268 - dense_3_acc_8: 0.2536 - dense_3_acc_9: 0.100 - ETA: 5s - loss: 16.5210 - dense_3_loss: 2.5916 - dense_3_acc: 0.4828 - dense_3_acc_1: 0.6707 - dense_3_acc_2: 0.2876 - dense_3_acc_3: 0.0613 - dense_3_acc_4: 0.9663 - dense_3_acc_5: 0.3599 - dense_3_acc_6: 0.0656 - dense_3_acc_7: 0.9277 - dense_3_acc_8: 0.2567 - dense_3_acc_9: 0.100 - ETA: 4s - loss: 16.4514 - dense_3_loss: 2.5887 - dense_3_acc: 0.4877 - dense_3_acc_1: 0.6736 - dense_3_acc_2: 0.2888 - dense_3_acc_3: 0.0628 - dense_3_acc_4: 0.9667 - dense_3_acc_5: 0.3651 - dense_3_acc_6: 0.0680 - dense_3_acc_7: 0.9286 - dense_3_acc_8: 0.2587 - dense_3_acc_9: 0.100 - ETA: 4s - loss: 16.3810 - dense_3_loss: 2.5850 - dense_3_acc: 0.4931 - dense_3_acc_1: 0.6769 - dense_3_acc_2: 0.2905 - dense_3_acc_3: 0.0643 - dense_3_acc_4: 0.9671 - dense_3_acc_5: 0.3701 - dense_3_acc_6: 0.0698 - dense_3_acc_7: 0.9294 - dense_3_acc_8: 0.2598 - dense_3_acc_9: 0.101 - ETA: 4s - loss: 16.3117 - dense_3_loss: 2.5813 - dense_3_acc: 0.4981 - dense_3_acc_1: 0.6801 - dense_3_acc_2: 0.2926 - dense_3_acc_3: 0.0646 - dense_3_acc_4: 0.9675 - dense_3_acc_5: 0.3741 - dense_3_acc_6: 0.0715 - dense_3_acc_7: 0.9302 - dense_3_acc_8: 0.2622 - dense_3_acc_9: 0.101 - ETA: 3s - loss: 16.2441 - dense_3_loss: 2.5785 - dense_3_acc: 0.5033 - dense_3_acc_1: 0.6833 - dense_3_acc_2: 0.2949 - dense_3_acc_3: 0.0657 - dense_3_acc_4: 0.9679 - dense_3_acc_5: 0.3786 - dense_3_acc_6: 0.0727 - dense_3_acc_7: 0.9310 - dense_3_acc_8: 0.2633 - dense_3_acc_9: 0.1017"
     ]
    },
    {
     "name": "stdout",
     "output_type": "stream",
     "text": [
      "10000/10000 [==============================] - ETA: 3s - loss: 16.1821 - dense_3_loss: 2.5752 - dense_3_acc: 0.5074 - dense_3_acc_1: 0.6854 - dense_3_acc_2: 0.2971 - dense_3_acc_3: 0.0666 - dense_3_acc_4: 0.9683 - dense_3_acc_5: 0.3831 - dense_3_acc_6: 0.0738 - dense_3_acc_7: 0.9318 - dense_3_acc_8: 0.2647 - dense_3_acc_9: 0.102 - ETA: 3s - loss: 16.1153 - dense_3_loss: 2.5721 - dense_3_acc: 0.5123 - dense_3_acc_1: 0.6884 - dense_3_acc_2: 0.2983 - dense_3_acc_3: 0.0675 - dense_3_acc_4: 0.9686 - dense_3_acc_5: 0.3876 - dense_3_acc_6: 0.0748 - dense_3_acc_7: 0.9326 - dense_3_acc_8: 0.2661 - dense_3_acc_9: 0.102 - ETA: 3s - loss: 16.0508 - dense_3_loss: 2.5692 - dense_3_acc: 0.5166 - dense_3_acc_1: 0.6913 - dense_3_acc_2: 0.3017 - dense_3_acc_3: 0.0676 - dense_3_acc_4: 0.9690 - dense_3_acc_5: 0.3921 - dense_3_acc_6: 0.0763 - dense_3_acc_7: 0.9334 - dense_3_acc_8: 0.2675 - dense_3_acc_9: 0.103 - ETA: 2s - loss: 15.9890 - dense_3_loss: 2.5666 - dense_3_acc: 0.5212 - dense_3_acc_1: 0.6940 - dense_3_acc_2: 0.3033 - dense_3_acc_3: 0.0687 - dense_3_acc_4: 0.9693 - dense_3_acc_5: 0.3952 - dense_3_acc_6: 0.0779 - dense_3_acc_7: 0.9341 - dense_3_acc_8: 0.2689 - dense_3_acc_9: 0.103 - ETA: 2s - loss: 15.9289 - dense_3_loss: 2.5630 - dense_3_acc: 0.5257 - dense_3_acc_1: 0.6963 - dense_3_acc_2: 0.3041 - dense_3_acc_3: 0.0691 - dense_3_acc_4: 0.9697 - dense_3_acc_5: 0.3992 - dense_3_acc_6: 0.0791 - dense_3_acc_7: 0.9348 - dense_3_acc_8: 0.2702 - dense_3_acc_9: 0.104 - ETA: 2s - loss: 15.8718 - dense_3_loss: 2.5604 - dense_3_acc: 0.5296 - dense_3_acc_1: 0.6986 - dense_3_acc_2: 0.3050 - dense_3_acc_3: 0.0690 - dense_3_acc_4: 0.9700 - dense_3_acc_5: 0.4029 - dense_3_acc_6: 0.0811 - dense_3_acc_7: 0.9355 - dense_3_acc_8: 0.2709 - dense_3_acc_9: 0.104 - ETA: 1s - loss: 15.8102 - dense_3_loss: 2.5580 - dense_3_acc: 0.5342 - dense_3_acc_1: 0.7014 - dense_3_acc_2: 0.3074 - dense_3_acc_3: 0.0701 - dense_3_acc_4: 0.9703 - dense_3_acc_5: 0.4067 - dense_3_acc_6: 0.0822 - dense_3_acc_7: 0.9362 - dense_3_acc_8: 0.2726 - dense_3_acc_9: 0.105 - ETA: 1s - loss: 15.7542 - dense_3_loss: 2.5555 - dense_3_acc: 0.5384 - dense_3_acc_1: 0.7038 - dense_3_acc_2: 0.3083 - dense_3_acc_3: 0.0706 - dense_3_acc_4: 0.9706 - dense_3_acc_5: 0.4106 - dense_3_acc_6: 0.0829 - dense_3_acc_7: 0.9369 - dense_3_acc_8: 0.2737 - dense_3_acc_9: 0.105 - ETA: 1s - loss: 15.6947 - dense_3_loss: 2.5526 - dense_3_acc: 0.5424 - dense_3_acc_1: 0.7063 - dense_3_acc_2: 0.3101 - dense_3_acc_3: 0.0712 - dense_3_acc_4: 0.9709 - dense_3_acc_5: 0.4148 - dense_3_acc_6: 0.0838 - dense_3_acc_7: 0.9376 - dense_3_acc_8: 0.2755 - dense_3_acc_9: 0.106 - ETA: 1s - loss: 15.6442 - dense_3_loss: 2.5503 - dense_3_acc: 0.5462 - dense_3_acc_1: 0.7084 - dense_3_acc_2: 0.3114 - dense_3_acc_3: 0.0714 - dense_3_acc_4: 0.9713 - dense_3_acc_5: 0.4176 - dense_3_acc_6: 0.0844 - dense_3_acc_7: 0.9382 - dense_3_acc_8: 0.2762 - dense_3_acc_9: 0.106 - ETA: 0s - loss: 15.5907 - dense_3_loss: 2.5481 - dense_3_acc: 0.5500 - dense_3_acc_1: 0.7105 - dense_3_acc_2: 0.3130 - dense_3_acc_3: 0.0721 - dense_3_acc_4: 0.9715 - dense_3_acc_5: 0.4213 - dense_3_acc_6: 0.0857 - dense_3_acc_7: 0.9389 - dense_3_acc_8: 0.2774 - dense_3_acc_9: 0.106 - ETA: 0s - loss: 15.5362 - dense_3_loss: 2.5453 - dense_3_acc: 0.5538 - dense_3_acc_1: 0.7128 - dense_3_acc_2: 0.3140 - dense_3_acc_3: 0.0729 - dense_3_acc_4: 0.9718 - dense_3_acc_5: 0.4242 - dense_3_acc_6: 0.0871 - dense_3_acc_7: 0.9395 - dense_3_acc_8: 0.2786 - dense_3_acc_9: 0.106 - ETA: 0s - loss: 15.4831 - dense_3_loss: 2.5421 - dense_3_acc: 0.5574 - dense_3_acc_1: 0.7147 - dense_3_acc_2: 0.3148 - dense_3_acc_3: 0.0732 - dense_3_acc_4: 0.9721 - dense_3_acc_5: 0.4277 - dense_3_acc_6: 0.0881 - dense_3_acc_7: 0.9401 - dense_3_acc_8: 0.2799 - dense_3_acc_9: 0.107 - 27s 3ms/step - loss: 15.4294 - dense_3_loss: 2.5396 - dense_3_acc: 0.5615 - dense_3_acc_1: 0.7173 - dense_3_acc_2: 0.3165 - dense_3_acc_3: 0.0735 - dense_3_acc_4: 0.9724 - dense_3_acc_5: 0.4312 - dense_3_acc_6: 0.0883 - dense_3_acc_7: 0.9407 - dense_3_acc_8: 0.2809 - dense_3_acc_9: 0.1078\n"
     ]
    },
    {
     "data": {
      "text/plain": [
       "<keras.callbacks.History at 0x24701e4fd30>"
      ]
     },
     "execution_count": 56,
     "metadata": {},
     "output_type": "execute_result"
    }
   ],
   "source": [
    "model.fit([Xoh, s0, c0], outputs, epochs=1, batch_size=100)"
   ]
  }
 ],
 "metadata": {
  "kernelspec": {
   "display_name": "Python 3",
   "language": "python",
   "name": "python3"
  },
  "language_info": {
   "codemirror_mode": {
    "name": "ipython",
    "version": 3
   },
   "file_extension": ".py",
   "mimetype": "text/x-python",
   "name": "python",
   "nbconvert_exporter": "python",
   "pygments_lexer": "ipython3",
   "version": "3.6.5"
  }
 },
 "nbformat": 4,
 "nbformat_minor": 2
}
