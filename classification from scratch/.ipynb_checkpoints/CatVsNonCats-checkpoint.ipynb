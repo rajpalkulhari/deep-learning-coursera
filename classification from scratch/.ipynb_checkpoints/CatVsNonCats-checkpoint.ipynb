{
 "cells": [
  {
   "cell_type": "markdown",
   "metadata": {},
   "source": [
    "### Logistic regression without any library - programming assignment "
   ]
  },
  {
   "cell_type": "code",
   "execution_count": 2,
   "metadata": {},
   "outputs": [],
   "source": [
    "import numpy as np\n",
    "import scipy as sp\n",
    "import matplotlib.pyplot as plt\n",
    "import h5py\n",
    "import PIL\n",
    "import skimage"
   ]
  },
  {
   "cell_type": "markdown",
   "metadata": {},
   "source": [
    "### **1. Load dataset**"
   ]
  },
  {
   "cell_type": "code",
   "execution_count": 3,
   "metadata": {},
   "outputs": [],
   "source": [
    "def load_dataset(train_file, test_file):\n",
    "    train_data = h5py.File(train_file, 'r')\n",
    "    train_x = np.array(train_data[\"train_set_x\"][:])\n",
    "    train_y = np.array(train_data[\"train_set_y\"][:])\n",
    "    \n",
    "    test_data = h5py.File(test_file,\"r\")\n",
    "    test_x = np.array(test_data[\"test_set_x\"][:])\n",
    "    test_y = np.array(test_data[\"test_set_y\"][:])\n",
    "    \n",
    "    classes = np.array(test_data[\"list_classes\"][:])\n",
    "    \n",
    "    train_y = train_y.reshape((1, train_y.shape[0]))\n",
    "    test_y = test_y.reshape((1, test_y.shape[0]))\n",
    "    \n",
    "    return train_x, train_y, test_x, test_y, classes"
   ]
  },
  {
   "cell_type": "code",
   "execution_count": 4,
   "metadata": {},
   "outputs": [],
   "source": [
    "train_x,train_y,test_x,test_y,classes = load_dataset(\"Data/train_catvnoncat.h5\",\"Data/test_catvnoncat.h5\")"
   ]
  },
  {
   "cell_type": "markdown",
   "metadata": {},
   "source": [
    "<b> Let's look some of the images</b>"
   ]
  },
  {
   "cell_type": "code",
   "execution_count": 5,
   "metadata": {},
   "outputs": [
    {
     "data": {
      "text/plain": [
       "(209, 64, 64, 3)"
      ]
     },
     "execution_count": 5,
     "metadata": {},
     "output_type": "execute_result"
    }
   ],
   "source": [
    "train_x.shape"
   ]
  },
  {
   "cell_type": "code",
   "execution_count": 6,
   "metadata": {},
   "outputs": [
    {
     "data": {
      "text/plain": [
       "(1, 209)"
      ]
     },
     "execution_count": 6,
     "metadata": {},
     "output_type": "execute_result"
    }
   ],
   "source": [
    "train_y.shape"
   ]
  },
  {
   "cell_type": "code",
   "execution_count": 7,
   "metadata": {},
   "outputs": [
    {
     "data": {
      "text/plain": [
       "(2,)"
      ]
     },
     "execution_count": 7,
     "metadata": {},
     "output_type": "execute_result"
    }
   ],
   "source": [
    "classes.shape"
   ]
  },
  {
   "cell_type": "code",
   "execution_count": 8,
   "metadata": {},
   "outputs": [
    {
     "name": "stdout",
     "output_type": "stream",
     "text": [
      "Y = [ 0 ]  This is a non-cat picture\n"
     ]
    },
    {
     "data": {
      "image/png": "[encoded data removed]",
      "text/plain": [
       "<Figure size 432x288 with 1 Axes>"
      ]
     },
     "metadata": {},
     "output_type": "display_data"
    }
   ],
   "source": [
    "index=0\n",
    "plt.imshow(train_x[index])\n",
    "print(\"Y = [\",str(train_y[0,index]),\"]\", \" This is a\",classes[train_y[0,index]].decode(\"utf-8\"), \"picture\")"
   ]
  },
  {
   "cell_type": "markdown",
   "metadata": {},
   "source": [
    "### **2. Data preprocessing**"
   ]
  },
  {
   "cell_type": "markdown",
   "metadata": {},
   "source": [
    "<b> flatten the images </b>"
   ]
  },
  {
   "cell_type": "code",
   "execution_count": 9,
   "metadata": {},
   "outputs": [],
   "source": [
    "train_x_flatten = train_x.reshape(train_x.shape[0],-1).T"
   ]
  },
  {
   "cell_type": "code",
   "execution_count": 10,
   "metadata": {},
   "outputs": [
    {
     "data": {
      "text/plain": [
       "(12288, 209)"
      ]
     },
     "execution_count": 10,
     "metadata": {},
     "output_type": "execute_result"
    }
   ],
   "source": [
    "train_x_flatten.shape"
   ]
  },
  {
   "cell_type": "code",
   "execution_count": 11,
   "metadata": {},
   "outputs": [],
   "source": [
    "test_x_flatten = test_x.reshape(test_x.shape[0],-1).T"
   ]
  },
  {
   "cell_type": "code",
   "execution_count": 12,
   "metadata": {},
   "outputs": [
    {
     "data": {
      "text/plain": [
       "(12288, 50)"
      ]
     },
     "execution_count": 12,
     "metadata": {},
     "output_type": "execute_result"
    }
   ],
   "source": [
    "test_x_flatten.shape"
   ]
  },
  {
   "cell_type": "markdown",
   "metadata": {},
   "source": [
    "<b> normalize data </b>"
   ]
  },
  {
   "cell_type": "code",
   "execution_count": 13,
   "metadata": {},
   "outputs": [],
   "source": [
    "train_x = train_x_flatten/255\n",
    "test_x = test_x_flatten/255"
   ]
  },
  {
   "cell_type": "markdown",
   "metadata": {},
   "source": [
    "### 3. Helper functions"
   ]
  },
  {
   "cell_type": "code",
   "execution_count": 14,
   "metadata": {},
   "outputs": [],
   "source": [
    "def sigmoid(z):\n",
    "    return 1/(1+np.exp(-z))"
   ]
  },
  {
   "cell_type": "code",
   "execution_count": 15,
   "metadata": {},
   "outputs": [
    {
     "name": "stdout",
     "output_type": "stream",
     "text": [
      "0.5\n",
      "0.9999546021312976\n"
     ]
    }
   ],
   "source": [
    "print(sigmoid(0))\n",
    "print(sigmoid(10))"
   ]
  },
  {
   "cell_type": "code",
   "execution_count": 16,
   "metadata": {},
   "outputs": [],
   "source": [
    "def initilize_with_zero(dim):\n",
    "    w = np.zeros(shape=(dim,1))\n",
    "    b = 0\n",
    "    #test for w's shape\n",
    "    assert(w.shape == (dim,1))\n",
    "    assert(isinstance(b,float) or isinstance(b,int))\n",
    "    return w, b"
   ]
  },
  {
   "cell_type": "code",
   "execution_count": 17,
   "metadata": {},
   "outputs": [
    {
     "name": "stdout",
     "output_type": "stream",
     "text": [
      "w =  [[0.]\n",
      " [0.]\n",
      " [0.]]\n",
      "b =  0\n"
     ]
    }
   ],
   "source": [
    "w,b = initilize_with_zero(3)\n",
    "print(\"w = \",w)\n",
    "print(\"b = \",b)"
   ]
  },
  {
   "cell_type": "code",
   "execution_count": 18,
   "metadata": {},
   "outputs": [],
   "source": [
    "def propagate(w, b, X, Y):\n",
    "    m = X.shape[1]\n",
    "    # forward propagation\n",
    "    Z = np.dot(w.T, X) + b\n",
    "    A = sigmoid(Z) # activation\n",
    "    cost = (-1/m)*np.sum(Y * np.log(A) + (1-Y) * (np.log(1 - A)))\n",
    "    \n",
    "    # backward propagation\n",
    "    dw = (1/m)*np.dot(X,(A-Y).T)\n",
    "    db = (1/m)*np.sum(A - Y)\n",
    "    \n",
    "    assert(dw.shape == w.shape)\n",
    "    assert(db.dtype == float)\n",
    "    cost = np.squeeze(cost)\n",
    "    assert(cost.shape == ())\n",
    "    \n",
    "    grads = {\n",
    "        \"dw\" : dw,\n",
    "        \"db\" : db\n",
    "    }\n",
    "    \n",
    "    return grads,cost"
   ]
  },
  {
   "cell_type": "code",
   "execution_count": 19,
   "metadata": {},
   "outputs": [],
   "source": [
    "w,b,X,Y = np.array([[2],[1],[3]]), 3, np.array([[1,2],[3,4],[5,6]]),np.array([0,1])"
   ]
  },
  {
   "cell_type": "code",
   "execution_count": 20,
   "metadata": {},
   "outputs": [
    {
     "name": "stdout",
     "output_type": "stream",
     "text": [
      "dw:  [[0.5]\n",
      " [1.5]\n",
      " [2.5]]\n",
      "db:  0.49999999994856337\n",
      "cost  11.499999970631707\n"
     ]
    }
   ],
   "source": [
    "grads, cost = propagate(w,b,X,Y)\n",
    "print('dw: ', grads['dw'])\n",
    "print('db: ', grads['db'])\n",
    "print('cost ', cost)"
   ]
  },
  {
   "cell_type": "code",
   "execution_count": 21,
   "metadata": {},
   "outputs": [],
   "source": [
    "def optimize(w, b, X, Y, num_iteration,learning_rate, print_cost=False):\n",
    "    costs = []\n",
    "    for i in range(num_iteration):\n",
    "        grads, cost = propagate(w,b,X,Y)\n",
    "        \n",
    "        dw = grads['dw']\n",
    "        db = grads['db']\n",
    "        w = w - learning_rate*dw\n",
    "        b = b - learning_rate*db\n",
    "        \n",
    "        if i%100 == 0:\n",
    "            costs.append(cost)\n",
    "        \n",
    "        \n",
    "        if print_cost and i%100 == 0:\n",
    "            print(\"Cost after %i iteration is: %f\" % (i,cost))\n",
    "            \n",
    "    params = {\n",
    "        \"w\": w,\n",
    "        \"b\": b\n",
    "    }\n",
    "    grads = {\n",
    "        \"dw\": dw,\n",
    "        \"db\": db\n",
    "    }\n",
    "    \n",
    "    return params,grads,costs"
   ]
  },
  {
   "cell_type": "code",
   "execution_count": 22,
   "metadata": {},
   "outputs": [
    {
     "name": "stdout",
     "output_type": "stream",
     "text": [
      "Cost after 0 iteration is: 11.500000\n",
      "Cost after 100 iteration is: 10.600000\n",
      "Cost after 200 iteration is: 9.700000\n",
      "Cost after 300 iteration is: 8.800000\n",
      "Cost after 400 iteration is: 7.900000\n",
      "Cost after 500 iteration is: 7.000001\n",
      "Cost after 600 iteration is: 6.100005\n",
      "Cost after 700 iteration is: 5.200032\n",
      "Cost after 800 iteration is: 4.300200\n",
      "Cost after 900 iteration is: 3.401264\n"
     ]
    }
   ],
   "source": [
    "params,grads,costs = optimize(w,b,X,Y,num_iteration=1000,learning_rate=0.001, print_cost=True)"
   ]
  },
  {
   "cell_type": "code",
   "execution_count": 23,
   "metadata": {},
   "outputs": [
    {
     "name": "stdout",
     "output_type": "stream",
     "text": [
      "Parameters:  [[ 1.50024981]\n",
      " [-0.49931624]\n",
      " [ 0.50111771]]\n",
      "bias is:  2.5002169762376334\n"
     ]
    }
   ],
   "source": [
    "print('Parameters: ',params['w'])\n",
    "print('bias is: ',params['b'])"
   ]
  },
  {
   "cell_type": "code",
   "execution_count": 24,
   "metadata": {},
   "outputs": [],
   "source": [
    "def predict(w,b,X):\n",
    "    m = X.shape[1]\n",
    "    predictions = np.zeros(shape= (1,m))\n",
    "    A = sigmoid(np.dot(w.T,X)+b)\n",
    "    \n",
    "    #convert to probabilities \n",
    "    for i in range(m):\n",
    "        predictions[0,i] = 1 if A[0,i] > 0.5 else 0\n",
    "    \n",
    "    assert(predictions.shape==(1,m))\n",
    "    \n",
    "    return predictions"
   ]
  },
  {
   "cell_type": "code",
   "execution_count": 25,
   "metadata": {},
   "outputs": [
    {
     "data": {
      "text/plain": [
       "array([[1., 1., 1., 1.]])"
      ]
     },
     "execution_count": 25,
     "metadata": {},
     "output_type": "execute_result"
    }
   ],
   "source": [
    "predict(w,b,np.array([[2,3,4,5],[6,2,3,4],[4,5,6,7]]))"
   ]
  },
  {
   "cell_type": "markdown",
   "metadata": {},
   "source": [
    "### 4. Model"
   ]
  },
  {
   "cell_type": "code",
   "execution_count": 26,
   "metadata": {},
   "outputs": [],
   "source": [
    "def model(train_x,train_y,test_x,test_y,num_iteration=1000,learning_rate=0.001, print_cost=False):\n",
    "    w,b = initilize_with_zero(train_x.shape[0])\n",
    "    \n",
    "    params, grads, cost = optimize(w,b,train_x,train_y,num_iteration=num_iteration,learning_rate=learning_rate, print_cost=print_cost)\n",
    "    \n",
    "    w = params['w']\n",
    "    b = params['b']\n",
    "    \n",
    "    predictions_train = predict(w,b,train_x)\n",
    "    predictions_test = predict(w,b,test_x)\n",
    "    \n",
    "    print(\"Train accuracy: {} %\".format(100 - np.mean(np.abs(predictions_train - train_y)) * 100))\n",
    "    print(\"Test accuracy: {} %\".format(100 - np.mean(np.abs(predictions_test - test_y)) * 100))\n",
    "    \n",
    "    d = {\n",
    "        \"cost\": cost,\n",
    "        \"w\":w,\n",
    "        \"b\":b,\n",
    "        \"predictions_train\":predictions_train,\n",
    "        \"predictions_test\":predictions_test,\n",
    "        \"num_iteration\":num_iteration,\n",
    "        \"learning_rate\":learning_rate\n",
    "    }\n",
    "    \n",
    "    return d"
   ]
  },
  {
   "cell_type": "code",
   "execution_count": 27,
   "metadata": {},
   "outputs": [
    {
     "name": "stdout",
     "output_type": "stream",
     "text": [
      "Cost after 0 iteration is: 0.693147\n",
      "Cost after 100 iteration is: 0.591289\n",
      "Cost after 200 iteration is: 0.555796\n",
      "Cost after 300 iteration is: 0.528977\n",
      "Cost after 400 iteration is: 0.506881\n",
      "Cost after 500 iteration is: 0.487880\n",
      "Cost after 600 iteration is: 0.471108\n",
      "Cost after 700 iteration is: 0.456046\n",
      "Cost after 800 iteration is: 0.442350\n",
      "Cost after 900 iteration is: 0.429782\n",
      "Train accuracy: 86.60287081339713 %\n",
      "Test accuracy: 62.0 %\n"
     ]
    }
   ],
   "source": [
    "d=model(train_x,train_y,test_x,test_y,num_iteration=1000,learning_rate=0.001, print_cost=True)"
   ]
  },
  {
   "cell_type": "markdown",
   "metadata": {},
   "source": [
    "** example from test set**"
   ]
  },
  {
   "cell_type": "code",
   "execution_count": 28,
   "metadata": {},
   "outputs": [
    {
     "name": "stdout",
     "output_type": "stream",
     "text": [
      "y =  1 , I predicted this to be  non-cat\n"
     ]
    },
    {
     "data": {
      "image/png": "[encoded data removed]",
      "text/plain": [
       "<Figure size 432x288 with 1 Axes>"
      ]
     },
     "metadata": {},
     "output_type": "display_data"
    }
   ],
   "source": [
    "index = 4\n",
    "plt.imshow(test_x[:,index].reshape(64,64,3))\n",
    "print(\"y = \",str(test_y[0,index]),\", I predicted this to be \",classes[int(d['predictions_test'][0,index])].decode(\"utf-8\"))"
   ]
  },
  {
   "cell_type": "markdown",
   "metadata": {},
   "source": [
    "#### cost functions"
   ]
  },
  {
   "cell_type": "code",
   "execution_count": 29,
   "metadata": {},
   "outputs": [
    {
     "data": {
      "image/png": "[encoded data removed]",
      "text/plain": [
       "<Figure size 432x288 with 1 Axes>"
      ]
     },
     "metadata": {},
     "output_type": "display_data"
    }
   ],
   "source": [
    "costs = d['cost']\n",
    "plt.plot(costs)\n",
    "plt.ylabel('cost')\n",
    "plt.xlabel('Iterations per hundreds')\n",
    "plt.title('Learning rate='+str(d['learning_rate']))\n",
    "plt.show()"
   ]
  },
  {
   "cell_type": "markdown",
   "metadata": {},
   "source": [
    "### 3. Further analysis"
   ]
  },
  {
   "cell_type": "markdown",
   "metadata": {},
   "source": [
    "**Different learning rates**"
   ]
  },
  {
   "cell_type": "code",
   "execution_count": 30,
   "metadata": {},
   "outputs": [
    {
     "name": "stdout",
     "output_type": "stream",
     "text": [
      "learning rate is: 0.01\n",
      "Train accuracy: 98.56459330143541 %\n",
      "Test accuracy: 70.0 %\n",
      "\n",
      "-----------------------------\n",
      "\n",
      "learning rate is: 0.001\n",
      "Train accuracy: 86.60287081339713 %\n",
      "Test accuracy: 62.0 %\n",
      "\n",
      "-----------------------------\n",
      "\n",
      "learning rate is: 0.0001\n",
      "Train accuracy: 66.02870813397129 %\n",
      "Test accuracy: 36.0 %\n",
      "\n",
      "-----------------------------\n",
      "\n"
     ]
    },
    {
     "data": {
      "image/png": "[encoded data removed]",
      "text/plain": [
       "<Figure size 432x288 with 1 Axes>"
      ]
     },
     "metadata": {},
     "output_type": "display_data"
    }
   ],
   "source": [
    "learning_rates = [0.01,0.001,0.0001]\n",
    "models = {}\n",
    "\n",
    "for i in learning_rates:\n",
    "    print ('learning rate is: ' + str(i))\n",
    "    models[str(i)]=model(train_x,train_y,test_x,test_y,num_iteration=1000,learning_rate=i, print_cost=False)\n",
    "    print('\\n' + '-----------------------------' + '\\n')\n",
    "\n",
    "for i in learning_rates:\n",
    "    plt.plot(np.squeeze(models[str(i)]['cost']), label=str(models[str(i)]['learning_rate']))\n",
    "    \n",
    "plt.xlabel('Iterations')\n",
    "plt.ylabel('Cost')\n",
    "\n",
    "legend = plt.legend(loc='upper center',shadow=True)\n",
    "frame = legend.get_frame()\n",
    "frame.set_facecolor('0.90')\n",
    "plt.show()"
   ]
  },
  {
   "cell_type": "markdown",
   "metadata": {},
   "source": [
    "**custom image**"
   ]
  },
  {
   "cell_type": "code",
   "execution_count": 31,
   "metadata": {},
   "outputs": [
    {
     "ename": "AttributeError",
     "evalue": "module 'scipy' has no attribute 'misc'",
     "output_type": "error",
     "traceback": [
      "\u001b[1;31m---------------------------------------------------------------------------\u001b[0m",
      "\u001b[1;31mAttributeError\u001b[0m                            Traceback (most recent call last)",
      "\u001b[1;32m<ipython-input-31-47025c11eb22>\u001b[0m in \u001b[0;36m<module>\u001b[1;34m()\u001b[0m\n\u001b[0;32m      1\u001b[0m \u001b[0mcustom_img\u001b[0m \u001b[1;33m=\u001b[0m \u001b[1;34m'Data/img.jpg'\u001b[0m\u001b[1;33m\u001b[0m\u001b[0m\n\u001b[0;32m      2\u001b[0m \u001b[0mimage\u001b[0m \u001b[1;33m=\u001b[0m \u001b[0mnp\u001b[0m\u001b[1;33m.\u001b[0m\u001b[0marray\u001b[0m\u001b[1;33m(\u001b[0m\u001b[0mplt\u001b[0m\u001b[1;33m.\u001b[0m\u001b[0mimread\u001b[0m\u001b[1;33m(\u001b[0m\u001b[0mcustom_img\u001b[0m\u001b[1;33m)\u001b[0m\u001b[1;33m)\u001b[0m\u001b[1;33m\u001b[0m\u001b[0m\n\u001b[1;32m----> 3\u001b[1;33m \u001b[0mimage\u001b[0m \u001b[1;33m=\u001b[0m \u001b[0msp\u001b[0m\u001b[1;33m.\u001b[0m\u001b[0mmisc\u001b[0m\u001b[1;33m.\u001b[0m\u001b[0mimresize\u001b[0m\u001b[1;33m(\u001b[0m\u001b[0mimage\u001b[0m\u001b[1;33m,\u001b[0m\u001b[0msize\u001b[0m\u001b[1;33m=\u001b[0m\u001b[1;33m(\u001b[0m\u001b[1;36m64\u001b[0m\u001b[1;33m,\u001b[0m\u001b[1;36m64\u001b[0m\u001b[1;33m)\u001b[0m\u001b[1;33m)\u001b[0m\u001b[1;33m\u001b[0m\u001b[0m\n\u001b[0m",
      "\u001b[1;31mAttributeError\u001b[0m: module 'scipy' has no attribute 'misc'"
     ]
    }
   ],
   "source": [
    "custom_img = 'Data/img.jpg'\n",
    "image = np.array(plt.imread(custom_img))\n",
    "image = sp.misc.imresize(image,size=(64,64))"
   ]
  },
  {
   "cell_type": "code",
   "execution_count": null,
   "metadata": {},
   "outputs": [],
   "source": [
    "plt.imshow(image)"
   ]
  },
  {
   "cell_type": "code",
   "execution_count": 32,
   "metadata": {},
   "outputs": [],
   "source": []
  },
  {
   "cell_type": "code",
   "execution_count": null,
   "metadata": {},
   "outputs": [],
   "source": []
  }
 ],
 "metadata": {
  "kernelspec": {
   "display_name": "Python 3",
   "language": "python",
   "name": "python3"
  },
  "language_info": {
   "codemirror_mode": {
    "name": "ipython",
    "version": 3
   },
   "file_extension": ".py",
   "mimetype": "text/x-python",
   "name": "python",
   "nbconvert_exporter": "python",
   "pygments_lexer": "ipython3",
   "version": "3.6.5"
  }
 },
 "nbformat": 4,
 "nbformat_minor": 2
}
